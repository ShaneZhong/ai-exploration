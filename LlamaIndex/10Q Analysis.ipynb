{
 "cells": [
  {
   "cell_type": "code",
   "execution_count": 3,
   "metadata": {},
   "outputs": [],
   "source": [
    "import nest_asyncio\n",
    "\n",
    "nest_asyncio.apply()"
   ]
  },
  {
   "cell_type": "code",
   "execution_count": 4,
   "metadata": {},
   "outputs": [
    {
     "name": "stderr",
     "output_type": "stream",
     "text": [
      "[nltk_data] Downloading package stopwords to\n",
      "[nltk_data]     /Users/shane/Documents/Github/ai-\n",
      "[nltk_data]     exploration/.venv/lib/python3.11/site-\n",
      "[nltk_data]     packages/llama_index/core/_static/nltk_cache...\n",
      "[nltk_data]   Unzipping corpora/stopwords.zip.\n",
      "[nltk_data] Downloading package punkt to\n",
      "[nltk_data]     /Users/shane/Documents/Github/ai-\n",
      "[nltk_data]     exploration/.venv/lib/python3.11/site-\n",
      "[nltk_data]     packages/llama_index/core/_static/nltk_cache...\n",
      "[nltk_data]   Unzipping tokenizers/punkt.zip.\n"
     ]
    }
   ],
   "source": [
    "from llama_index.core import SimpleDirectoryReader, VectorStoreIndex\n",
    "from llama_index.core.response.pprint_utils import pprint_response\n",
    "from llama_index.llms.openai import OpenAI\n",
    "\n",
    "from llama_index.core.tools import QueryEngineTool, ToolMetadata\n",
    "from llama_index.core.query_engine import SubQuestionQueryEngine"
   ]
  },
  {
   "cell_type": "code",
   "execution_count": 5,
   "metadata": {},
   "outputs": [],
   "source": [
    "from llama_index.core import Settings\n",
    "\n",
    "Settings.llm = OpenAI(temperature=0.2, model=\"gpt-3.5-turbo\")"
   ]
  },
  {
   "cell_type": "markdown",
   "metadata": {},
   "source": [
    "# Download Data"
   ]
  },
  {
   "cell_type": "code",
   "execution_count": 7,
   "metadata": {},
   "outputs": [
    {
     "name": "stdout",
     "output_type": "stream",
     "text": [
      "--2024-02-14 21:27:19--  https://raw.githubusercontent.com/run-llama/llama_index/main/docs/examples/data/10q/uber_10q_march_2022.pdf\n",
      "Resolving raw.githubusercontent.com (raw.githubusercontent.com)... 185.199.108.133, 185.199.111.133, 185.199.109.133, ...\n",
      "Connecting to raw.githubusercontent.com (raw.githubusercontent.com)|185.199.108.133|:443... connected.\n",
      "HTTP request sent, awaiting response... 200 OK\n",
      "Length: 1260185 (1.2M) [application/octet-stream]\n",
      "Saving to: ‘data/10q/uber_10q_march_2022.pdf’\n",
      "\n",
      "data/10q/uber_10q_m 100%[===================>]   1.20M  7.36MB/s    in 0.2s    \n",
      "\n",
      "2024-02-14 21:27:20 (7.36 MB/s) - ‘data/10q/uber_10q_march_2022.pdf’ saved [1260185/1260185]\n",
      "\n",
      "--2024-02-14 21:27:20--  https://raw.githubusercontent.com/run-llama/llama_index/main/docs/examples/data/10q/uber_10q_june_2022.pdf\n",
      "Resolving raw.githubusercontent.com (raw.githubusercontent.com)... 185.199.108.133, 185.199.111.133, 185.199.109.133, ...\n",
      "Connecting to raw.githubusercontent.com (raw.githubusercontent.com)|185.199.108.133|:443... connected.\n",
      "HTTP request sent, awaiting response... 200 OK\n",
      "Length: 1238483 (1.2M) [application/octet-stream]\n",
      "Saving to: ‘data/10q/uber_10q_june_2022.pdf’\n",
      "\n",
      "data/10q/uber_10q_j 100%[===================>]   1.18M  6.50MB/s    in 0.2s    \n",
      "\n",
      "2024-02-14 21:27:21 (6.50 MB/s) - ‘data/10q/uber_10q_june_2022.pdf’ saved [1238483/1238483]\n",
      "\n",
      "--2024-02-14 21:27:21--  https://raw.githubusercontent.com/run-llama/llama_index/main/docs/examples/data/10q/uber_10q_sept_2022.pdf\n",
      "Resolving raw.githubusercontent.com (raw.githubusercontent.com)... 185.199.108.133, 185.199.111.133, 185.199.109.133, ...\n",
      "Connecting to raw.githubusercontent.com (raw.githubusercontent.com)|185.199.108.133|:443... connected.\n",
      "HTTP request sent, awaiting response... 200 OK\n",
      "Length: 1178622 (1.1M) [application/octet-stream]\n",
      "Saving to: ‘data/10q/uber_10q_sept_2022.pdf’\n",
      "\n",
      "data/10q/uber_10q_s 100%[===================>]   1.12M  5.87MB/s    in 0.2s    \n",
      "\n",
      "2024-02-14 21:27:21 (5.87 MB/s) - ‘data/10q/uber_10q_sept_2022.pdf’ saved [1178622/1178622]\n",
      "\n"
     ]
    }
   ],
   "source": [
    "!mkdir -p 'data/10q/'\n",
    "!wget 'https://raw.githubusercontent.com/run-llama/llama_index/main/docs/examples/data/10q/uber_10q_march_2022.pdf' -O 'data/10q/uber_10q_march_2022.pdf'\n",
    "!wget 'https://raw.githubusercontent.com/run-llama/llama_index/main/docs/examples/data/10q/uber_10q_june_2022.pdf' -O 'data/10q/uber_10q_june_2022.pdf'\n",
    "!wget 'https://raw.githubusercontent.com/run-llama/llama_index/main/docs/examples/data/10q/uber_10q_sept_2022.pdf' -O 'data/10q/uber_10q_sept_2022.pdf'"
   ]
  },
  {
   "cell_type": "code",
   "execution_count": 8,
   "metadata": {},
   "outputs": [],
   "source": [
    "# Read the three PDF files\n",
    "march_2022 = SimpleDirectoryReader(\n",
    "    input_files=[\"./data/10q/uber_10q_march_2022.pdf\"]\n",
    ").load_data()\n",
    "june_2022 = SimpleDirectoryReader(\n",
    "    input_files=[\"./data/10q/uber_10q_june_2022.pdf\"]\n",
    ").load_data()\n",
    "sept_2022 = SimpleDirectoryReader(\n",
    "    input_files=[\"./data/10q/uber_10q_sept_2022.pdf\"]\n",
    ").load_data()"
   ]
  },
  {
   "cell_type": "code",
   "execution_count": 10,
   "metadata": {},
   "outputs": [],
   "source": [
    "# Build indices\n",
    "march_index = VectorStoreIndex.from_documents(march_2022)\n",
    "june_index = VectorStoreIndex.from_documents(june_2022)\n",
    "sept_index = VectorStoreIndex.from_documents(sept_2022)\n"
   ]
  },
  {
   "cell_type": "code",
   "execution_count": 11,
   "metadata": {},
   "outputs": [],
   "source": [
    "# Build query engines\n",
    "march_engine = march_index.as_query_engine(similarity_top_k=3)\n",
    "june_engine = june_index.as_query_engine(similarity_top_k=3)\n",
    "sept_engine = sept_index.as_query_engine(similarity_top_k=3)"
   ]
  },
  {
   "cell_type": "code",
   "execution_count": 12,
   "metadata": {},
   "outputs": [],
   "source": [
    "query_engine_tools = [\n",
    "    QueryEngineTool(\n",
    "        query_engine=sept_engine,\n",
    "        metadata=ToolMetadata(\n",
    "            name=\"sept_22\",\n",
    "            description=(\n",
    "                \"Provides information about Uber quarterly financials ending\"\n",
    "                \" September 2022\"\n",
    "            ),\n",
    "        ),\n",
    "    ),\n",
    "    QueryEngineTool(\n",
    "        query_engine=june_engine,\n",
    "        metadata=ToolMetadata(\n",
    "            name=\"june_22\",\n",
    "            description=(\n",
    "                \"Provides information about Uber quarterly financials ending\"\n",
    "                \" June 2022\"\n",
    "            ),\n",
    "        ),\n",
    "    ),\n",
    "    QueryEngineTool(\n",
    "        query_engine=march_engine,\n",
    "        metadata=ToolMetadata(\n",
    "            name=\"march_22\",\n",
    "            description=(\n",
    "                \"Provides information about Uber quarterly financials ending\"\n",
    "                \" March 2022\"\n",
    "            ),\n",
    "        ),\n",
    "    ),\n",
    "]"
   ]
  },
  {
   "cell_type": "code",
   "execution_count": 13,
   "metadata": {},
   "outputs": [],
   "source": [
    "s_engine = SubQuestionQueryEngine.from_defaults(\n",
    "    query_engine_tools=query_engine_tools\n",
    ")"
   ]
  },
  {
   "cell_type": "markdown",
   "metadata": {},
   "source": [
    "# Run queries"
   ]
  },
  {
   "cell_type": "code",
   "execution_count": 14,
   "metadata": {},
   "outputs": [
    {
     "name": "stdout",
     "output_type": "stream",
     "text": [
      "Generated 2 sub questions.\n",
      "\u001b[1;3;38;2;237;90;200m[sept_22] Q: What is the revenue for Uber in the September 2022 quarter?\n",
      "\u001b[0m\u001b[1;3;38;2;90;149;237m[june_22] Q: What is the revenue for Uber in the June 2022 quarter?\n",
      "\u001b[0m\u001b[1;3;38;2;90;149;237m[june_22] A: The revenue for Uber in the June 2022 quarter is $8.1 billion.\n",
      "\u001b[0m\u001b[1;3;38;2;237;90;200m[sept_22] A: The revenue for Uber in the September 2022 quarter is $8.3 billion.\n",
      "\u001b[0m"
     ]
    }
   ],
   "source": [
    "response = s_engine.query(\n",
    "    \"Analyze Uber revenue growth over the latest two quarter filings\"\n",
    ")\n"
   ]
  },
  {
   "cell_type": "code",
   "execution_count": 15,
   "metadata": {},
   "outputs": [
    {
     "name": "stdout",
     "output_type": "stream",
     "text": [
      "Uber's revenue has shown growth over the latest two quarter filings. In the September 2022 quarter, the revenue was $8.3 billion, while in the June 2022 quarter, the revenue was $8.1 billion. This indicates a positive trend in revenue growth for Uber.\n"
     ]
    }
   ],
   "source": [
    "print(response)"
   ]
  },
  {
   "cell_type": "code",
   "execution_count": 18,
   "metadata": {},
   "outputs": [
    {
     "name": "stdout",
     "output_type": "stream",
     "text": [
      "Generated 3 sub questions.\n",
      "\u001b[1;3;38;2;237;90;200m[sept_22] Q: What were the key financial metrics for Uber in September 2022?\n",
      "\u001b[0m\u001b[1;3;38;2;90;149;237m[june_22] Q: What were the key financial metrics for Uber in June 2022?\n",
      "\u001b[0m\u001b[1;3;38;2;11;159;203m[march_22] Q: What were the key financial metrics for Uber in March 2022?\n",
      "\u001b[0m\u001b[1;3;38;2;11;159;203m[march_22] A: In March 2022, Uber reported the following key financial metrics:\n",
      "- Revenue: $6.9 billion, representing a year-over-year increase of 136%.\n",
      "- Gross Bookings: $26.4 billion, with a year-over-year growth of 39% on a constant currency basis.\n",
      "- Adjusted EBITDA: $168 million, showing an improvement of $527 million compared to the same period in 2021.\n",
      "- Net loss attributable to Uber Technologies, Inc.: $5.9 billion, which includes an unrealized loss on debt and equity securities of $5.6 billion.\n",
      "- Cash and cash equivalents: $4.2 billion at the end of the quarter.\n",
      "\u001b[0m\u001b[1;3;38;2;90;149;237m[june_22] A: In June 2022, Uber reported revenue of $8.1 billion, which represented a 105% increase compared to the same period in 2021. The overall Gross Bookings for the company reached $29.1 billion, showing a 36% increase on a constant currency basis. The company also reported a net loss attributable to Uber Technologies, Inc. of $2.6 billion, which included unrealized losses on debt and equity securities. Adjusted EBITDA for the period was $364 million, with Mobility Adjusted EBITDA profit at $771 million and Delivery Adjusted EBITDA profit at $99 million. Uber ended the quarter with $4.4 billion in unrestricted cash and cash equivalents.\n",
      "\u001b[0m\u001b[1;3;38;2;237;90;200m[sept_22] A: In September 2022, Uber reported the following key financial metrics:\n",
      "- Revenue of $8.3 billion, representing a 72% increase compared to the same period in 2021.\n",
      "- Net loss attributable to Uber Technologies, Inc. of $1.2 billion.\n",
      "- Adjusted EBITDA of $516 million, up $508 million compared to the same period in 2021.\n",
      "- Overall Gross Bookings of $29.1 billion, a 32% increase on a constant currency basis compared to the same period in 2021.\n",
      "- Mobility Gross Bookings grew 45% year-over-year, primarily due to increases in Trip volumes.\n",
      "- Freight Gross Bookings grew 335% year-over-year, primarily attributable to the acquisition of Transplace.\n",
      "- Delivery Gross Bookings grew 13% year-over-year, primarily driven by growth in the US & Canada.\n",
      "\u001b[0m"
     ]
    }
   ],
   "source": [
    "response = s_engine.query(\n",
    "    \"Analyze change in macro environment over the 3 quarters\"\n",
    ")"
   ]
  },
  {
   "cell_type": "code",
   "execution_count": 19,
   "metadata": {},
   "outputs": [
    {
     "name": "stdout",
     "output_type": "stream",
     "text": [
      "The change in the macro environment over the three quarters can be analyzed based on the key financial metrics reported by Uber. In September 2022, Uber experienced significant growth in revenue, with a 72% increase compared to the same period in 2021. This indicates a positive trend in the company's financial performance. Additionally, the overall Gross Bookings increased by 32% on a constant currency basis, reflecting increased demand for Uber's services.\n",
      "\n",
      "In June 2022, Uber continued to show strong growth in revenue, with a 105% increase compared to the same period in 2021. The overall Gross Bookings also increased by 36% on a constant currency basis. However, the company reported a net loss attributable to Uber Technologies, Inc. of $2.6 billion, which included unrealized losses on debt and equity securities. This suggests that while Uber's revenue and Gross Bookings increased, the company faced challenges in managing its expenses.\n",
      "\n",
      "In March 2022, Uber experienced significant year-over-year growth in revenue, with a 136% increase. The Gross Bookings also grew by 39% on a constant currency basis. The company reported an improvement in Adjusted EBITDA, with a $527 million increase compared to the same period in 2021. However, Uber reported a net loss attributable to Uber Technologies, Inc. of $5.9 billion, which included an unrealized loss on debt and equity securities of $5.6 billion. This indicates that while Uber's financial performance improved in terms of revenue and Adjusted EBITDA, the company still faced significant losses.\n",
      "\n",
      "Overall, the macro environment for Uber over the three quarters showed a positive trend in terms of revenue growth and increased demand for its services. However, the company also faced challenges in managing expenses and reported significant net losses.\n"
     ]
    }
   ],
   "source": [
    "print(response)"
   ]
  },
  {
   "cell_type": "code",
   "execution_count": 20,
   "metadata": {},
   "outputs": [
    {
     "name": "stdout",
     "output_type": "stream",
     "text": [
      "Generated 1 sub questions.\n",
      "\u001b[1;3;38;2;237;90;200m[sept_22] Q: What is the cash balance of Uber in September 2022?\n",
      "\u001b[0m\u001b[1;3;38;2;237;90;200m[sept_22] A: The cash balance of Uber in September 2022 is $4,865 million.\n",
      "\u001b[0m"
     ]
    }
   ],
   "source": [
    "response = s_engine.query(\"How much cash did Uber have in sept 2022\")\n"
   ]
  },
  {
   "cell_type": "code",
   "execution_count": 21,
   "metadata": {},
   "outputs": [
    {
     "name": "stdout",
     "output_type": "stream",
     "text": [
      "Uber had $4,865 million in cash in September 2022.\n"
     ]
    }
   ],
   "source": [
    "print(response)\n"
   ]
  },
  {
   "cell_type": "code",
   "execution_count": null,
   "metadata": {},
   "outputs": [],
   "source": []
  }
 ],
 "metadata": {
  "kernelspec": {
   "display_name": ".venv",
   "language": "python",
   "name": "python3"
  },
  "language_info": {
   "codemirror_mode": {
    "name": "ipython",
    "version": 3
   },
   "file_extension": ".py",
   "mimetype": "text/x-python",
   "name": "python",
   "nbconvert_exporter": "python",
   "pygments_lexer": "ipython3",
   "version": "3.11.4"
  }
 },
 "nbformat": 4,
 "nbformat_minor": 2
}
